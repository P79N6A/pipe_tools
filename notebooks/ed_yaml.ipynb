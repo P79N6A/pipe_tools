{
 "cells": [
  {
   "cell_type": "markdown",
   "metadata": {},
   "source": [
    "# construct a simple run_parameters editor\n",
    "\n",
    "[Widgets List](http://ipywidgets.readthedocs.io/en/latest/examples/Widget%20List.html)\n",
    "\n",
    "## Using a list of needed file names get & display a set of one par editors.\n",
    "\n",
    "## Using a list of editable keys get & display a set of one par editors.\n",
    "\n",
    "## When OK is pushed merge the edited parameters into a dict and write a new yaml file."
   ]
  },
  {
   "cell_type": "code",
   "execution_count": 1,
   "metadata": {},
   "outputs": [],
   "source": [
    "import os\n",
    "import sys\n",
    "import pandas as pd\n",
    "import numpy as np\n",
    "\n",
    "import knpackage.toolbox as kn\n",
    "\n",
    "from IPython.display import display\n",
    "import ipywidgets as widgets\n",
    "\n",
    "\n",
    "def get_one_par_edit(par_key, par_value):\n",
    "    \"\"\" get a one parameter text editor \"\"\"\n",
    "    par_key = widgets.Label(value=par_key)\n",
    "    par_key.data_type_str = type(par_value)\n",
    "    par_key.ed_val = widgets.Text(value=str(par_value), disabled=False)\n",
    "    par_key.view_box = widgets.HBox([par_key, par_key.ed_val])\n",
    "    return par_key\n",
    "\n",
    "class ParametersEditor():\n",
    "    def __init__(self, pars_dict):\n",
    "        self.pars_dict = pars_dict\n",
    "        self.pars_keys = sorted(list(pars_dict.keys()))\n",
    "        self.display_box_list = []\n",
    "        self.keys_list = []\n",
    "        for key in self.pars_keys:\n",
    "            par_key = get_one_par_edit(key, pars_dict[key])\n",
    "            self.keys_list.append(par_key)\n",
    "            self.display_box_list.append(par_key.view_box)\n",
    "        self.view_box = widgets.VBox(self.display_box_list)\n",
    "        display(self.view_box)"
   ]
  },
  {
   "cell_type": "code",
   "execution_count": 13,
   "metadata": {},
   "outputs": [
    {
     "name": "stdout",
     "output_type": "stream",
     "text": [
      "      phenotype_name_full_path: ../data/spreadsheets/UCEC_phenotype.txt\n",
      "                        method: nmf\n",
      "    spreadsheet_name_full_path: ../data/spreadsheets/tcga_ucec_somatic_mutation_data.df\n",
      "                     threshold: 10\n",
      "           nmf_conv_check_freq: 50\n",
      "            nmf_max_iterations: 10000\n",
      "           top_number_of_genes: 100\n",
      "                 tmp_directory: ./run_dir/tmp\n",
      "             results_directory: ./run_dir/results\n",
      "            nmf_max_invariance: 200\n",
      "                 run_directory: ../../Samples_Clustering_Pipeline/data/run_files/\n",
      "            number_of_clusters: 3\n",
      "                      run_file: BENCHMARK_1_SC_nmf.yml\n"
     ]
    }
   ],
   "source": [
    "# Select a set of run parameters and display controls for them\n",
    "run_file_dir = '../../Samples_Clustering_Pipeline/data/run_files/'\n",
    "os.listdir(run_file_dir)\n",
    "run_file = 'BENCHMARK_1_SC_nmf.yml'\n",
    "run_parameters = kn.get_run_parameters(run_file_dir, run_file)\n",
    "for k, v, in run_parameters.items():\n",
    "    print('%30s: %s'%(k,v))"
   ]
  },
  {
   "cell_type": "code",
   "execution_count": 2,
   "metadata": {},
   "outputs": [
    {
     "name": "stdout",
     "output_type": "stream",
     "text": [
      "      nmf_conv_check_freq: 50\n",
      "       nmf_max_iterations: 10000\n",
      "      top_number_of_genes: 100\n",
      "       nmf_max_invariance: 200\n"
     ]
    },
    {
     "data": {
      "application/vnd.jupyter.widget-view+json": {
       "model_id": "1b99f84ac6644acba9c21cf1ca8ed23b",
       "version_major": 2,
       "version_minor": 0
      },
      "text/html": [
       "<p>Failed to display Jupyter Widget of type <code>VBox</code>.</p>\n",
       "<p>\n",
       "  If you're reading this message in Jupyter Notebook or JupyterLab, it may mean\n",
       "  that the widgets JavaScript is still loading. If this message persists, it\n",
       "  likely means that the widgets JavaScript library is either not installed or\n",
       "  not enabled. See the <a href=\"https://ipywidgets.readthedocs.io/en/stable/user_install.html\">Jupyter\n",
       "  Widgets Documentation</a> for setup instructions.\n",
       "</p>\n",
       "<p>\n",
       "  If you're reading this message in another notebook frontend (for example, a static\n",
       "  rendering on GitHub or <a href=\"https://nbviewer.jupyter.org/\">NBViewer</a>),\n",
       "  it may mean that your frontend doesn't currently support widgets.\n",
       "</p>\n"
      ],
      "text/plain": [
       "VBox(children=(HBox(children=(Label(value='nmf_conv_check_freq'), Text(value='50'))), HBox(children=(Label(value='nmf_max_invariance'), Text(value='200'))), HBox(children=(Label(value='nmf_max_iterations'), Text(value='10000'))), HBox(children=(Label(value='top_number_of_genes'), Text(value='100')))))"
      ]
     },
     "metadata": {},
     "output_type": "display_data"
    }
   ],
   "source": [
    "pars_list = ['nmf_max_iterations', 'nmf_conv_check_freq', 'nmf_max_invariance', 'top_number_of_genes']\n",
    "\n",
    "rp_copy = {}\n",
    "for k, v in run_parameters.items():\n",
    "    if k in pars_list:\n",
    "        rp_copy[k] = v\n",
    "        print('%25s: %s'%(k,v))\n",
    "    \n",
    "par_ed = ParametersEditor(rp_copy)"
   ]
  },
  {
   "cell_type": "code",
   "execution_count": 3,
   "metadata": {},
   "outputs": [],
   "source": [
    "for key in par_ed.keys_list:\n",
    "    key.ed_val.value"
   ]
  },
  {
   "cell_type": "code",
   "execution_count": null,
   "metadata": {},
   "outputs": [],
   "source": []
  },
  {
   "cell_type": "code",
   "execution_count": 4,
   "metadata": {},
   "outputs": [],
   "source": [
    "par_key = 'nmf_max_iterations'\n",
    "par_value = run_parameters[par_key]"
   ]
  },
  {
   "cell_type": "code",
   "execution_count": 8,
   "metadata": {},
   "outputs": [],
   "source": [
    "ed_controls = get_one_par_edit(par_key, par_value)"
   ]
  },
  {
   "cell_type": "code",
   "execution_count": 9,
   "metadata": {},
   "outputs": [
    {
     "data": {
      "application/vnd.jupyter.widget-view+json": {
       "model_id": "cfae25b662064d95959a6e24846dbe99",
       "version_major": 2,
       "version_minor": 0
      },
      "text/html": [
       "<p>Failed to display Jupyter Widget of type <code>HBox</code>.</p>\n",
       "<p>\n",
       "  If you're reading this message in Jupyter Notebook or JupyterLab, it may mean\n",
       "  that the widgets JavaScript is still loading. If this message persists, it\n",
       "  likely means that the widgets JavaScript library is either not installed or\n",
       "  not enabled. See the <a href=\"https://ipywidgets.readthedocs.io/en/stable/user_install.html\">Jupyter\n",
       "  Widgets Documentation</a> for setup instructions.\n",
       "</p>\n",
       "<p>\n",
       "  If you're reading this message in another notebook frontend (for example, a static\n",
       "  rendering on GitHub or <a href=\"https://nbviewer.jupyter.org/\">NBViewer</a>),\n",
       "  it may mean that your frontend doesn't currently support widgets.\n",
       "</p>\n"
      ],
      "text/plain": [
       "HBox(children=(Label(value='nmf_max_iterations'), Text(value='10000')))"
      ]
     },
     "metadata": {},
     "output_type": "display_data"
    }
   ],
   "source": [
    "display(ed_controls.view_box)"
   ]
  },
  {
   "cell_type": "code",
   "execution_count": 10,
   "metadata": {},
   "outputs": [
    {
     "name": "stdout",
     "output_type": "stream",
     "text": [
      "True\n"
     ]
    },
    {
     "data": {
      "text/plain": [
       "int"
      ]
     },
     "execution_count": 10,
     "metadata": {},
     "output_type": "execute_result"
    }
   ],
   "source": [
    "v = ed_controls.ed_val.value\n",
    "if ed_controls.data_type_str == int:\n",
    "    print('True')\n",
    "    v = int(v)\n",
    "type(v)"
   ]
  },
  {
   "cell_type": "code",
   "execution_count": 12,
   "metadata": {},
   "outputs": [
    {
     "data": {
      "text/plain": [
       "int"
      ]
     },
     "execution_count": 12,
     "metadata": {},
     "output_type": "execute_result"
    }
   ],
   "source": [
    "ed_controls.data_type_str"
   ]
  },
  {
   "cell_type": "code",
   "execution_count": null,
   "metadata": {},
   "outputs": [],
   "source": []
  },
  {
   "cell_type": "code",
   "execution_count": null,
   "metadata": {},
   "outputs": [],
   "source": []
  },
  {
   "cell_type": "code",
   "execution_count": null,
   "metadata": {},
   "outputs": [],
   "source": []
  },
  {
   "cell_type": "code",
   "execution_count": null,
   "metadata": {},
   "outputs": [],
   "source": []
  },
  {
   "cell_type": "code",
   "execution_count": null,
   "metadata": {},
   "outputs": [],
   "source": []
  },
  {
   "cell_type": "code",
   "execution_count": null,
   "metadata": {},
   "outputs": [],
   "source": []
  },
  {
   "cell_type": "code",
   "execution_count": null,
   "metadata": {},
   "outputs": [],
   "source": []
  },
  {
   "cell_type": "code",
   "execution_count": null,
   "metadata": {},
   "outputs": [],
   "source": []
  },
  {
   "cell_type": "code",
   "execution_count": null,
   "metadata": {},
   "outputs": [],
   "source": []
  }
 ],
 "metadata": {
  "kernelspec": {
   "display_name": "Python 3",
   "language": "python",
   "name": "python3"
  },
  "language_info": {
   "codemirror_mode": {
    "name": "ipython",
    "version": 3
   },
   "file_extension": ".py",
   "mimetype": "text/x-python",
   "name": "python",
   "nbconvert_exporter": "python",
   "pygments_lexer": "ipython3",
   "version": "3.5.2"
  }
 },
 "nbformat": 4,
 "nbformat_minor": 2
}
