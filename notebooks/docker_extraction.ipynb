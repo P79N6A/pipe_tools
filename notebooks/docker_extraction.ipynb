{
 "cells": [
  {
   "cell_type": "markdown",
   "metadata": {},
   "source": [
    "# Extract and examine pipeline in running docker container.\n",
    "* Start the container in this directory:\n",
    "    * docker run `pwd`:/home/test/run_dir -it repo/docker_image_name:tag"
   ]
  },
  {
   "cell_type": "code",
   "execution_count": 1,
   "metadata": {},
   "outputs": [],
   "source": [
    "import os\n",
    "import sys\n",
    "\n",
    "import numpy as np\n",
    "import pandas as pd\n",
    "\n",
    "sys.path.insert(1, '../src')\n",
    "import data_wrangler as dwrang"
   ]
  },
  {
   "cell_type": "code",
   "execution_count": null,
   "metadata": {},
   "outputs": [],
   "source": [
    "start_string = 'docker run `pwd`:/home/test/run_dir -it'\n",
    "repo_name = 'start_string'\n",
    "docker_image_name = 'general_clustering_pipeline'\n",
    "# image_tag = '11_09_2017'\n",
    "image_tag = '10_19_2017'\n",
    "call_string = start_string + ' ' + os.path.join(repo_name, docker_image_name + ':' + image_tag)\n",
    "print(call_string)"
   ]
  },
  {
   "cell_type": "code",
   "execution_count": null,
   "metadata": {},
   "outputs": [],
   "source": [
    "os.system()"
   ]
  },
  {
   "cell_type": "code",
   "execution_count": null,
   "metadata": {},
   "outputs": [],
   "source": []
  }
 ],
 "metadata": {
  "kernelspec": {
   "display_name": "Python 3",
   "language": "python",
   "name": "python3"
  },
  "language_info": {
   "codemirror_mode": {
    "name": "ipython",
    "version": 3
   },
   "file_extension": ".py",
   "mimetype": "text/x-python",
   "name": "python",
   "nbconvert_exporter": "python",
   "pygments_lexer": "ipython3",
   "version": "3.5.2"
  }
 },
 "nbformat": 4,
 "nbformat_minor": 2
}
