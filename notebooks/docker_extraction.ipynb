{
 "cells": [
  {
   "cell_type": "markdown",
   "metadata": {},
   "source": [
    "# Extract and examine pipeline in running docker container.\n",
    "* Start the container in this directory:\n",
    "    * docker run `pwd`:/home/test/run_dir -it repo/docker_image_name:tag\n",
    "    \n",
    "## In development - Not completely tested ..."
   ]
  },
  {
   "cell_type": "code",
   "execution_count": 2,
   "metadata": {},
   "outputs": [],
   "source": [
    "import os\n",
    "import sys\n",
    "\n",
    "import numpy as np\n",
    "import pandas as pd\n",
    "\n",
    "sys.path.insert(1, '../src')\n",
    "import data_wrangler as dwrang"
   ]
  },
  {
   "cell_type": "code",
   "execution_count": 6,
   "metadata": {},
   "outputs": [
    {
     "name": "stdout",
     "output_type": "stream",
     "text": [
      "docker run --name=pipetest `pwd`:/home/test/run_dir -it knowengdev/general_clustering_pipeline:11_09_2017\n"
     ]
    }
   ],
   "source": [
    "container_name = 'pipetest'\n",
    "start_string = 'docker run --name={} `pwd`:/home/test/run_dir -it'.format(container_name)\n",
    "repo_name = 'knowengdev'\n",
    "docker_image_name = 'general_clustering_pipeline'\n",
    "image_tag = '11_09_2017'\n",
    "\n",
    "call_string = start_string + ' ' + os.path.join(repo_name, docker_image_name + ':' + image_tag)\n",
    "\n",
    "print(call_string)"
   ]
  },
  {
   "cell_type": "code",
   "execution_count": null,
   "metadata": {},
   "outputs": [],
   "source": [
    "os.system(call_string)"
   ]
  },
  {
   "cell_type": "code",
   "execution_count": null,
   "metadata": {},
   "outputs": [],
   "source": [
    "env_setup_str = 'docker exec -i {} cp -r * ./test_code'.format(container_name)"
   ]
  }
 ],
 "metadata": {
  "kernelspec": {
   "display_name": "Python 3",
   "language": "python",
   "name": "python3"
  },
  "language_info": {
   "codemirror_mode": {
    "name": "ipython",
    "version": 3
   },
   "file_extension": ".py",
   "mimetype": "text/x-python",
   "name": "python",
   "nbconvert_exporter": "python",
   "pygments_lexer": "ipython3",
   "version": "3.5.2"
  }
 },
 "nbformat": 4,
 "nbformat_minor": 2
}
