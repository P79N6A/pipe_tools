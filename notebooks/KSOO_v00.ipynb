{
 "cells": [
  {
   "cell_type": "markdown",
   "metadata": {},
   "source": [
    "## KnowEnGSpreadsheetOrientedObject:   KSOO v00\n",
    "    * Introspective Spreadsheet in the context of KnowEnG Pipeline Anaylsis\n",
    "    * HBox Directory - File Selector\n",
    "    \n",
    "# Stop Crashing this computer and call:\n",
    "[os.walk(),...](https://stackoverflow.com/questions/10989005/do-i-understand-os-walk-right)\n",
    "\n",
    "```python\n",
    "# just get the directories with files list:\n",
    "import os.path\n",
    "\n",
    "for path, directories, files in os.walk('C:\\dir1\\dir2\\startdir'):\n",
    "     if file in files:\n",
    "          print 'found %s' % os.path.join(path, file)\n",
    "```"
   ]
  },
  {
   "cell_type": "code",
   "execution_count": 111,
   "metadata": {},
   "outputs": [],
   "source": [
    "import os\n",
    "from os.path import expanduser\n",
    "\n",
    "from IPython.display import display\n",
    "from ipywidgets import widgets\n",
    "\n",
    "file_select_box_layout = widgets.Layout(display='inline-flex', \n",
    "                                        flex_flow='row',\n",
    "                                        justify_content='space-between', \n",
    "                                        align_items='stretch',\n",
    "                                        border='none', width='100%')\n",
    "\n",
    "PARAMETER_FILE_TYPES = ['.yml']\n",
    "USER_DATAFILE_EXTENSIONS_LIST = ['.tsv', '.txt', '.df', '.gz', '.csv']\n",
    "ALL_DATA_FILE_TYPES = PARAMETER_FILE_TYPES + USER_DATAFILE_EXTENSIONS_LIST\n",
    "NO_FILES_LIST = ['No Data']\n",
    "DIR_IGNORE = ['Google Drive', 'Accounts']\n",
    "\n",
    "PREFIX_IGNORE = ['.', ' ', '_']\n",
    "\n",
    "MAX_DIR_RECURSION = 2\n",
    "\n",
    "def get_relevant_data_directories(target_dir, FEXT=ALL_DATA_FILE_TYPES):\n",
    "    dir_dict = {}\n",
    "    for path, directories, files in os.walk(target_dir):\n",
    "        _, path_0 = os.path.split(path)\n",
    "        if len(path_0) < 1 or path_0[0] in PREFIX_IGNORE: \n",
    "            continue\n",
    "\n",
    "        for file_name in files:\n",
    "            _, ext_ = os.path.splitext(file_name)\n",
    "            if ext_ in FEXT:\n",
    "                dir_dict[path_0] = path\n",
    "                break\n",
    "                \n",
    "    return dir_dict\n",
    "\n",
    "def user_data_list(target_dir, FEXT):\n",
    "    \"\"\" user_file_list = update_user_data_list(user_data_dir, FEXT)\n",
    "    Args:\n",
    "        target_dir:     directory to list\n",
    "        FEXT:           File extension list e.g. ['.tsv', '.txt']\n",
    "    \"\"\"\n",
    "    my_file_list = []\n",
    "    if os.path.isdir(target_dir) == False:\n",
    "        return my_file_list\n",
    "    \n",
    "    for f in os.listdir(target_dir):\n",
    "        if os.path.isfile(os.path.join(target_dir, f)):\n",
    "            noNeed, f_ext = os.path.splitext(f)\n",
    "            if f_ext in FEXT:\n",
    "                my_file_list.append(f)\n",
    "            else:\n",
    "                pass\n",
    "\n",
    "    if len(my_file_list) <= 0:\n",
    "        my_file_list.append('No Data')\n",
    "\n",
    "    return my_file_list\n",
    "\n",
    "\n",
    "class HorizontalFileSelector():\n",
    "    def __init__(self, user_home_dir=None):\n",
    "        if user_home_dir is None or os.path.isdir(os.path.abspath(user_home_dir)) == False:\n",
    "            self._user_data_directory = expanduser('~')\n",
    "        else:\n",
    "            self._user_data_directory = os.path.abspath(user_home_dir)\n",
    "        \n",
    "        #                             Create the set of controls in a horizontal Box\n",
    "        self.directory_valid = widgets.Valid(value=False, description='directory')\n",
    "        self.directory_dropd = widgets.Dropdown(options=NO_FILES_LIST, value=NO_FILES_LIST[0], description='', disabled=True)\n",
    "\n",
    "        self.filename_valid  = widgets.Valid(value=False, description='file')\n",
    "        self.filename_dropd  = widgets.Dropdown(options=NO_FILES_LIST, value=NO_FILES_LIST[0], description='', disabled=True)\n",
    "\n",
    "        self.file_select_set = widgets.HBox([self.directory_valid, \n",
    "                                             self.directory_dropd,\n",
    "                                             self.filename_valid, \n",
    "                                             self.filename_dropd], \n",
    "                                            layout=file_select_box_layout)\n",
    "        self.set_directory_dropd()\n",
    "        self.set_filename_dropd('null')\n",
    "        \n",
    "        self.directory_dropd.observe(self.set_filename_dropd, 'value')\n",
    "        \n",
    "    def show(self):\n",
    "        display(self.file_select_set)\n",
    "        \n",
    "    def get_directory_dropd(self):\n",
    "        return os.path.join(self._user_data_directory, self.directory_dropd.value)\n",
    "        \n",
    "    def set_directory_dropd(self):\n",
    "        dropd_dir_dict = get_relevant_data_directories( self._user_data_directory )\n",
    "        if len(dropd_dir_dict) > 0:\n",
    "            dropd_dir_list = sorted(list(dropd_dir_dict.keys()))\n",
    "            self.directory_dropd.options = dropd_dir_list\n",
    "            self.directory_dropd.value   = dropd_dir_list[0]\n",
    "            selected_directory = self.get_directory_dropd()\n",
    "            \n",
    "            if os.path.isdir(selected_directory):\n",
    "                self.set_filename_dropd('null')\n",
    "            self.directory_dropd.disabled = False\n",
    "            self.directory_valid.value = True\n",
    "        else:\n",
    "            self.directory_dropd.options = ['none']\n",
    "            self.directory_dropd.value   = 'none'\n",
    "            self.directory_dropd.disabled = True\n",
    "            self.directory_valid.value = False\n",
    "\n",
    "    def set_filename_dropd(self, _):\n",
    "        selected_dir = os.path.join(self._user_data_directory, self.directory_dropd.value)\n",
    "        options_list = user_data_list(selected_dir, USER_DATAFILE_EXTENSIONS_LIST)\n",
    "        if len(options_list) < 1:\n",
    "            options_list = NO_FILES_LIST\n",
    "        self.filename_dropd.options = options_list\n",
    "        self.filename_dropd.value = options_list[0]\n",
    "        self.filename_dropd.disabled = False\n",
    "        self.filename_valid.value = True\n",
    "        "
   ]
  },
  {
   "cell_type": "code",
   "execution_count": 113,
   "metadata": {},
   "outputs": [
    {
     "data": {
      "text/plain": [
       "'No Data'"
      ]
     },
     "execution_count": 113,
     "metadata": {},
     "output_type": "execute_result"
    }
   ],
   "source": [
    "NO_FILES_LIST[0]"
   ]
  },
  {
   "cell_type": "code",
   "execution_count": 114,
   "metadata": {},
   "outputs": [
    {
     "data": {
      "application/vnd.jupyter.widget-view+json": {
       "model_id": "199a3097c8bd4e568e4f09c2c6054a38",
       "version_major": 2,
       "version_minor": 0
      },
      "text/html": [
       "<p>Failed to display Jupyter Widget of type <code>HBox</code>.</p>\n",
       "<p>\n",
       "  If you're reading this message in Jupyter Notebook or JupyterLab, it may mean\n",
       "  that the widgets JavaScript is still loading. If this message persists, it\n",
       "  likely means that the widgets JavaScript library is either not installed or\n",
       "  not enabled. See the <a href=\"https://ipywidgets.readthedocs.io/en/stable/user_install.html\">Jupyter\n",
       "  Widgets Documentation</a> for setup instructions.\n",
       "</p>\n",
       "<p>\n",
       "  If you're reading this message in another notebook frontend (for example, a static\n",
       "  rendering on GitHub or <a href=\"https://nbviewer.jupyter.org/\">NBViewer</a>),\n",
       "  it may mean that your frontend doesn't currently support widgets.\n",
       "</p>\n"
      ],
      "text/plain": [
       "HBox(children=(Valid(value=True, description='directory'), Dropdown(options=('notebooks', 'versions'), value='notebooks'), Valid(value=True, description='file'), Dropdown(options=('test_II_versions.txt', 'test_versions.txt', 'installed_packages.txt'), value='test_II_versions.txt')), layout=Layout(align_items='stretch', border='none', display='inline-flex', flex_flow='row', justify_content='space-between', width='100%'))"
      ]
     },
     "metadata": {},
     "output_type": "display_data"
    }
   ],
   "source": [
    "home = '/Users/mojo/git_clone/dlanier/'\n",
    "# os.path.isdir(home)\n",
    "hfs = HorizontalFileSelector('/Users/mojo/git_clone/dlanier/pipe_tools')\n",
    "hfs.show()\n",
    "\n"
   ]
  },
  {
   "cell_type": "code",
   "execution_count": null,
   "metadata": {},
   "outputs": [],
   "source": []
  },
  {
   "cell_type": "code",
   "execution_count": null,
   "metadata": {},
   "outputs": [],
   "source": []
  },
  {
   "cell_type": "code",
   "execution_count": null,
   "metadata": {},
   "outputs": [],
   "source": []
  }
 ],
 "metadata": {
  "kernelspec": {
   "display_name": "Python 3",
   "language": "python",
   "name": "python3"
  },
  "language_info": {
   "codemirror_mode": {
    "name": "ipython",
    "version": 3
   },
   "file_extension": ".py",
   "mimetype": "text/x-python",
   "name": "python",
   "nbconvert_exporter": "python",
   "pygments_lexer": "ipython3",
   "version": "3.5.2"
  },
  "toc": {
   "colors": {
    "hover_highlight": "#DAA520",
    "navigate_num": "#000000",
    "navigate_text": "#333333",
    "running_highlight": "#FF0000",
    "selected_highlight": "#FFD700",
    "sidebar_border": "#EEEEEE",
    "wrapper_background": "#FFFFFF"
   },
   "moveMenuLeft": true,
   "nav_menu": {
    "height": "42px",
    "width": "252px"
   },
   "navigate_menu": true,
   "number_sections": true,
   "sideBar": true,
   "threshold": 4,
   "toc_cell": false,
   "toc_section_display": "block",
   "toc_window_display": false,
   "widenNotebook": false
  }
 },
 "nbformat": 4,
 "nbformat_minor": 2
}
