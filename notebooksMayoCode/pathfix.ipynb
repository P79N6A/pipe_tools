{
 "cells": [
  {
   "cell_type": "code",
   "execution_count": 16,
   "metadata": {},
   "outputs": [],
   "source": [
    "import os\n",
    "import sys\n",
    "fixrup_str = '/ui/ncsa/yanzhan2/'\n",
    "fixrup_str2 = 'MayomicsVC/'\n",
    "\n",
    "config_dir = '/Users/yo/zzIForge/Config'\n",
    "config_dest_dir = '/Users/yo/zzIForge/ConfigPathFixed'"
   ]
  },
  {
   "cell_type": "code",
   "execution_count": 4,
   "metadata": {},
   "outputs": [
    {
     "data": {
      "text/plain": [
       "True"
      ]
     },
     "execution_count": 4,
     "metadata": {},
     "output_type": "execute_result"
    }
   ],
   "source": [
    "os.path.isdir(config_dir)"
   ]
  },
  {
   "cell_type": "code",
   "execution_count": 24,
   "metadata": {},
   "outputs": [
    {
     "name": "stdout",
     "output_type": "stream",
     "text": [
      "run_info_haplo.txt\n",
      "memory_info.txt\n",
      "tool_info_alignment.txt\n",
      "tool_info.txt\n",
      "sample_info.txt\n",
      "run_info.txt\n",
      "tool_info_haplo.txt\n",
      "run_info_alignment.txt\n"
     ]
    }
   ],
   "source": [
    "count = 0\n",
    "for maybe_file in os.listdir(config_dir):\n",
    "    full_file = os.path.join(config_dir, maybe_file)\n",
    "    if os.path.isfile(full_file):\n",
    "        print(maybe_file)\n",
    "        with open(full_file, 'r') as fh:\n",
    "            lines = fh.readlines()\n",
    "        new_lines = []\n",
    "        for line_idx in range(len(lines)):\n",
    "            if isinstance(lines[line_idx], str):\n",
    "                lines[line_idx] = lines[line_idx].replace(fixrup_str, '')\n",
    "                lines[line_idx] = lines[line_idx].replace(fixrup_str2, '')\n",
    "                count += 1\n",
    "        new_full_file = os.path.join(config_dest_dir, maybe_file)\n",
    "        with open(new_full_file, 'w') as fh:\n",
    "            fh.writelines(lines)\n"
   ]
  },
  {
   "cell_type": "code",
   "execution_count": null,
   "metadata": {},
   "outputs": [],
   "source": []
  }
 ],
 "metadata": {
  "kernelspec": {
   "display_name": "Python 3",
   "language": "python",
   "name": "python3"
  },
  "language_info": {
   "codemirror_mode": {
    "name": "ipython",
    "version": 3
   },
   "file_extension": ".py",
   "mimetype": "text/x-python",
   "name": "python",
   "nbconvert_exporter": "python",
   "pygments_lexer": "ipython3",
   "version": "3.6.5"
  }
 },
 "nbformat": 4,
 "nbformat_minor": 2
}
