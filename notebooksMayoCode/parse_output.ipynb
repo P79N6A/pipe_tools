{
 "cells": [
  {
   "cell_type": "markdown",
   "metadata": {},
   "source": [
    "# GermlineMasterWorkflow.wdl output check development notes"
   ]
  },
  {
   "cell_type": "code",
   "execution_count": 2,
   "metadata": {},
   "outputs": [],
   "source": [
    "import os\n",
    "import sys\n",
    "import pandas as pd\n",
    "import numpy as np\n",
    "x_dir = '/Users/yo/zzIForge/fullyJan10/'\n",
    "if not os.path.isdir(x_dir):\n",
    "    print('directory not found\\n', x_dir)"
   ]
  },
  {
   "cell_type": "code",
   "execution_count": 49,
   "metadata": {},
   "outputs": [],
   "source": [
    "def get_rc_codes_df(x_dir):\n",
    "    \n",
    "    good_return_codes_list = ['0', '0\\n']\n",
    "    \n",
    "    call_dirs = os.listdir(x_dir)\n",
    "    call_dir_list = []\n",
    "    call_dir_count = 0\n",
    "    for cd in call_dirs:\n",
    "        if os.path.isdir(os.path.join(cd,x_dir)) and cd[0:4] == 'call':\n",
    "            call_dir_count += 1\n",
    "            call_dir_list.append(cd)\n",
    "    \n",
    "    cols_list = ['rc', 'bam', 'bam.bai']\n",
    "    rc_data = np.zeros((call_dir_count,len(cols_list))) -1\n",
    "    rc_df = pd.DataFrame(rc_data, index=call_dir_list,columns=cols_list)\n",
    "    \n",
    "    root_trim_str, _ = os.path.split(x_dir)\n",
    "    for dir_name, dir_list, files_list in os.walk(x_dir):\n",
    "        for filename in files_list:\n",
    "            full_filename = os.path.join(dir_name, filename)\n",
    "            if filename in cols_list:\n",
    "                if filename == 'rc':\n",
    "\n",
    "                    with open(full_filename, 'r') as fh:\n",
    "                        lines = fh.readlines()\n",
    "\n",
    "                    if lines[0] in good_return_codes_list:\n",
    "                        for call_dir in call_dir_list:\n",
    "                            if call_dir in dir_name:\n",
    "                                top_dir = dir_name.replace(root_trim_str, '..')\n",
    "                                rc_df.loc[call_dir, 'rc'] = str(lines[0]).strip()\n",
    "\n",
    "            else:\n",
    "                for call_dir in call_dir_list:\n",
    "                    if call_dir in dir_name:\n",
    "                        fname, fext = os.path.splitext(filename)\n",
    "                        some_stuff = os.stat(full_filename)\n",
    "                        if fext[1:] == 'bam':\n",
    "                            rc_df.loc[call_dir, 'bam'] = str(some_stuff.st_size)\n",
    "                        elif fext[1:] == 'bai':\n",
    "                            rc_df.loc[call_dir, 'bam.bai'] = str(some_stuff.st_size)\n",
    "                                \n",
    "    return rc_df                 "
   ]
  },
  {
   "cell_type": "code",
   "execution_count": 50,
   "metadata": {},
   "outputs": [
    {
     "data": {
      "text/html": [
       "<div>\n",
       "<style scoped>\n",
       "    .dataframe tbody tr th:only-of-type {\n",
       "        vertical-align: middle;\n",
       "    }\n",
       "\n",
       "    .dataframe tbody tr th {\n",
       "        vertical-align: top;\n",
       "    }\n",
       "\n",
       "    .dataframe thead th {\n",
       "        text-align: right;\n",
       "    }\n",
       "</style>\n",
       "<table border=\"1\" class=\"dataframe\">\n",
       "  <thead>\n",
       "    <tr style=\"text-align: right;\">\n",
       "      <th></th>\n",
       "      <th>rc</th>\n",
       "      <th>bam</th>\n",
       "      <th>bam.bai</th>\n",
       "    </tr>\n",
       "  </thead>\n",
       "  <tbody>\n",
       "    <tr>\n",
       "      <th>call-DHVC</th>\n",
       "      <td>0</td>\n",
       "      <td>-1</td>\n",
       "      <td>-1</td>\n",
       "    </tr>\n",
       "    <tr>\n",
       "      <th>call-realign</th>\n",
       "      <td>0</td>\n",
       "      <td>65349394</td>\n",
       "      <td>1431360</td>\n",
       "    </tr>\n",
       "    <tr>\n",
       "      <th>call-align</th>\n",
       "      <td>0</td>\n",
       "      <td>59500466</td>\n",
       "      <td>1431328</td>\n",
       "    </tr>\n",
       "    <tr>\n",
       "      <th>call-bqsr</th>\n",
       "      <td>0</td>\n",
       "      <td>67462520</td>\n",
       "      <td>1431360</td>\n",
       "    </tr>\n",
       "    <tr>\n",
       "      <th>call-dedup</th>\n",
       "      <td>0</td>\n",
       "      <td>65322724</td>\n",
       "      <td>1431360</td>\n",
       "    </tr>\n",
       "    <tr>\n",
       "      <th>call-haplotype</th>\n",
       "      <td>0</td>\n",
       "      <td>67462520</td>\n",
       "      <td>1431360</td>\n",
       "    </tr>\n",
       "    <tr>\n",
       "      <th>call-merge</th>\n",
       "      <td>0</td>\n",
       "      <td>59500466</td>\n",
       "      <td>1431328</td>\n",
       "    </tr>\n",
       "    <tr>\n",
       "      <th>call-vqsr</th>\n",
       "      <td>0</td>\n",
       "      <td>-1</td>\n",
       "      <td>-1</td>\n",
       "    </tr>\n",
       "    <tr>\n",
       "      <th>call-trimseq</th>\n",
       "      <td>0</td>\n",
       "      <td>-1</td>\n",
       "      <td>-1</td>\n",
       "    </tr>\n",
       "    <tr>\n",
       "      <th>call-DAB</th>\n",
       "      <td>0</td>\n",
       "      <td>65349394</td>\n",
       "      <td>1431360</td>\n",
       "    </tr>\n",
       "  </tbody>\n",
       "</table>\n",
       "</div>"
      ],
      "text/plain": [
       "               rc       bam  bam.bai\n",
       "call-DHVC       0        -1       -1\n",
       "call-realign    0  65349394  1431360\n",
       "call-align      0  59500466  1431328\n",
       "call-bqsr       0  67462520  1431360\n",
       "call-dedup      0  65322724  1431360\n",
       "call-haplotype  0  67462520  1431360\n",
       "call-merge      0  59500466  1431328\n",
       "call-vqsr       0        -1       -1\n",
       "call-trimseq    0        -1       -1\n",
       "call-DAB        0  65349394  1431360"
      ]
     },
     "execution_count": 50,
     "metadata": {},
     "output_type": "execute_result"
    }
   ],
   "source": [
    "somedf = get_rc_codes_df(x_dir)\n",
    "somedf"
   ]
  },
  {
   "cell_type": "code",
   "execution_count": null,
   "metadata": {},
   "outputs": [],
   "source": []
  },
  {
   "cell_type": "code",
   "execution_count": 6,
   "metadata": {},
   "outputs": [
    {
     "name": "stdout",
     "output_type": "stream",
     "text": [
      "10\n"
     ]
    }
   ],
   "source": [
    "call_dirs = os.listdir(x_dir)\n",
    "call_dir_list = []\n",
    "call_dir_count = 0\n",
    "for cd in call_dirs:\n",
    "    if os.path.isdir(os.path.join(cd,x_dir)) and cd[0:4] == 'call':\n",
    "        call_dir_count += 1\n",
    "        call_dir_list.append(cd)\n",
    "print(call_dir_count)"
   ]
  },
  {
   "cell_type": "code",
   "execution_count": 8,
   "metadata": {},
   "outputs": [
    {
     "data": {
      "text/plain": [
       "array([0., 0., 0., 0., 0., 0., 0., 0., 0., 0.])"
      ]
     },
     "execution_count": 8,
     "metadata": {},
     "output_type": "execute_result"
    }
   ],
   "source": [
    "np.zeros(call_dir_count)"
   ]
  },
  {
   "cell_type": "code",
   "execution_count": 11,
   "metadata": {},
   "outputs": [
    {
     "data": {
      "text/html": [
       "<div>\n",
       "<style scoped>\n",
       "    .dataframe tbody tr th:only-of-type {\n",
       "        vertical-align: middle;\n",
       "    }\n",
       "\n",
       "    .dataframe tbody tr th {\n",
       "        vertical-align: top;\n",
       "    }\n",
       "\n",
       "    .dataframe thead th {\n",
       "        text-align: right;\n",
       "    }\n",
       "</style>\n",
       "<table border=\"1\" class=\"dataframe\">\n",
       "  <thead>\n",
       "    <tr style=\"text-align: right;\">\n",
       "      <th></th>\n",
       "      <th>rc</th>\n",
       "    </tr>\n",
       "  </thead>\n",
       "  <tbody>\n",
       "    <tr>\n",
       "      <th>call-DHVC</th>\n",
       "      <td>0.0</td>\n",
       "    </tr>\n",
       "    <tr>\n",
       "      <th>call-realign</th>\n",
       "      <td>0.0</td>\n",
       "    </tr>\n",
       "    <tr>\n",
       "      <th>call-align</th>\n",
       "      <td>0.0</td>\n",
       "    </tr>\n",
       "    <tr>\n",
       "      <th>call-bqsr</th>\n",
       "      <td>0.0</td>\n",
       "    </tr>\n",
       "    <tr>\n",
       "      <th>call-dedup</th>\n",
       "      <td>0.0</td>\n",
       "    </tr>\n",
       "    <tr>\n",
       "      <th>call-haplotype</th>\n",
       "      <td>0.0</td>\n",
       "    </tr>\n",
       "    <tr>\n",
       "      <th>call-merge</th>\n",
       "      <td>0.0</td>\n",
       "    </tr>\n",
       "    <tr>\n",
       "      <th>call-vqsr</th>\n",
       "      <td>0.0</td>\n",
       "    </tr>\n",
       "    <tr>\n",
       "      <th>call-trimseq</th>\n",
       "      <td>0.0</td>\n",
       "    </tr>\n",
       "    <tr>\n",
       "      <th>call-DAB</th>\n",
       "      <td>0.0</td>\n",
       "    </tr>\n",
       "  </tbody>\n",
       "</table>\n",
       "</div>"
      ],
      "text/plain": [
       "                 rc\n",
       "call-DHVC       0.0\n",
       "call-realign    0.0\n",
       "call-align      0.0\n",
       "call-bqsr       0.0\n",
       "call-dedup      0.0\n",
       "call-haplotype  0.0\n",
       "call-merge      0.0\n",
       "call-vqsr       0.0\n",
       "call-trimseq    0.0\n",
       "call-DAB        0.0"
      ]
     },
     "execution_count": 11,
     "metadata": {},
     "output_type": "execute_result"
    }
   ],
   "source": [
    "cols_list = ['rc',]\n",
    "rc_df = pd.DataFrame(np.zeros((call_dir_count,len(cols_list))), index=call_dir_list,columns=cols_list)\n",
    "rc_df"
   ]
  },
  {
   "cell_type": "code",
   "execution_count": null,
   "metadata": {},
   "outputs": [],
   "source": []
  }
 ],
 "metadata": {
  "kernelspec": {
   "display_name": "Python 3",
   "language": "python",
   "name": "python3"
  },
  "language_info": {
   "codemirror_mode": {
    "name": "ipython",
    "version": 3
   },
   "file_extension": ".py",
   "mimetype": "text/x-python",
   "name": "python",
   "nbconvert_exporter": "python",
   "pygments_lexer": "ipython3",
   "version": "3.6.5"
  }
 },
 "nbformat": 4,
 "nbformat_minor": 2
}
