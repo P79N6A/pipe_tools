{
 "cells": [
  {
   "cell_type": "code",
   "execution_count": 1,
   "metadata": {},
   "outputs": [],
   "source": [
    "import os\n",
    "import sys\n",
    "\n",
    "import numpy as np\n",
    "import pandas as pd"
   ]
  },
  {
   "cell_type": "markdown",
   "metadata": {},
   "source": [
    "```python\n",
    "import shlex, subprocess\n",
    "command_line = input()\n",
    ">>> /bin/vikings -input eggs.txt -output \"spam spam.txt\" -cmd \"echo '$MONEY'\"\n",
    "args = shlex.split(command_line)\n",
    "\n",
    "pyA = subprocess.Popen(args, \n",
    "                       bufsize=-1, \n",
    "                       executable=None, \n",
    "                       stdin=None, \n",
    "                       stdout=None, \n",
    "                       stderr=None, \n",
    "                       preexec_fn=None, \n",
    "                       close_fds=True, \n",
    "                       shell=False, \n",
    "                       cwd=None, \n",
    "                       env=None, \n",
    "                       universal_newlines=None, \n",
    "                       startupinfo=None, \n",
    "                       creationflags=0, \n",
    "                       restore_signals=True, \n",
    "                       start_new_session=False, \n",
    "                       pass_fds=(), \n",
    "                       *, \n",
    "                       encoding=None, \n",
    "                       errors=None, \n",
    "                       text=None)\n",
    "                       \n",
    "pyB = subprocess.run(args, *, \n",
    "                     stdin=None, \n",
    "                     input=None, \n",
    "                     stdout=None, \n",
    "                     stderr=None, \n",
    "                     capture_output=False, \n",
    "                     shell=False, \n",
    "                     cwd=None, \n",
    "                     timeout=None, \n",
    "                     check=False, \n",
    "                     encoding=None, \n",
    "                     errors=None, \n",
    "                     text=None, \n",
    "                     env=None, \n",
    "                     universal_newlines=None)\n",
    "```\n",
    "[python subprocess](https://docs.python.org/3/library/subprocess.html?highlight=popen#module-subprocess) <br>\n",
    "[StackExchange (all the above)](https://stackoverflow.com/questions/89228/calling-an-external-command-in-python) <br>\n",
    "[see usage in: ipynbhpc](https://github.com/pyHPC/ipynbhpc/blob/master/ipynbhpc) <br>\n",
    "\n",
    "```python\n",
    "import shlex\n",
    "import subprocess\n",
    "subprocess.run(shlex.split('ls -l'))\n",
    "```"
   ]
  },
  {
   "cell_type": "code",
   "execution_count": 8,
   "metadata": {},
   "outputs": [
    {
     "name": "stdout",
     "output_type": "stream",
     "text": [
      "<class 'subprocess.CompletedProcess'>\n",
      "CompletedProcess(args=['python3', '--version'], returncode=0)\n"
     ]
    }
   ],
   "source": [
    "import shlex\n",
    "import subprocess\n",
    "completed_process = subprocess.run(shlex.split('python3 --version'))\n",
    "print(type(completed_process))\n",
    "print(completed_process)"
   ]
  },
  {
   "cell_type": "code",
   "execution_count": 2,
   "metadata": {},
   "outputs": [
    {
     "data": {
      "text/plain": [
       "environ{'TERM_PROGRAM': 'Apple_Terminal',\n",
       "        'SHELL': '/bin/bash',\n",
       "        'TERM': 'xterm-color',\n",
       "        'TMPDIR': '/var/folders/12/rq_vvnr91sj5kh6xj64x3vsr0000gn/T/',\n",
       "        'Apple_PubSub_Socket_Render': '/private/tmp/com.apple.launchd.qMFBnLgTyR/Render',\n",
       "        'TERM_PROGRAM_VERSION': '421.1',\n",
       "        'TERM_SESSION_ID': '45154CB3-5823-44A4-9243-6D939A81345C',\n",
       "        'USER': 'yo',\n",
       "        'SSH_AUTH_SOCK': '/private/tmp/com.apple.launchd.cFPriNSdXk/Listeners',\n",
       "        'PATH': '/Library/Frameworks/Python.framework/Versions/3.6/bin:/Library/Frameworks/Python.framework/Versions/3.6/bin:/usr/local/bin:/usr/bin:/bin:/usr/sbin:/sbin',\n",
       "        'PWD': '/Users/yo',\n",
       "        'LANG': 'en_US.UTF-8',\n",
       "        'XPC_FLAGS': '0x0',\n",
       "        'XPC_SERVICE_NAME': '0',\n",
       "        'SHLVL': '1',\n",
       "        'HOME': '/Users/yo',\n",
       "        'LOGNAME': 'yo',\n",
       "        '_': '/Library/Frameworks/Python.framework/Versions/3.6/bin/jupyter',\n",
       "        '__CF_USER_TEXT_ENCODING': '0x1F5:0x0:0x0',\n",
       "        '__PYVENV_LAUNCHER__': '/Library/Frameworks/Python.framework/Versions/3.6/bin/python3.6',\n",
       "        'JPY_PARENT_PID': '1801',\n",
       "        'CLICOLOR': '1',\n",
       "        'PAGER': 'cat',\n",
       "        'GIT_PAGER': 'cat',\n",
       "        'MPLBACKEND': 'module://ipykernel.pylab.backend_inline'}"
      ]
     },
     "execution_count": 2,
     "metadata": {},
     "output_type": "execute_result"
    }
   ],
   "source": [
    "os.environ"
   ]
  },
  {
   "cell_type": "code",
   "execution_count": 3,
   "metadata": {},
   "outputs": [
    {
     "name": "stdout",
     "output_type": "stream",
     "text": [
      "1801\n"
     ]
    }
   ],
   "source": [
    "print(int(os.environ.get('JPY_PARENT_PID')))"
   ]
  },
  {
   "cell_type": "code",
   "execution_count": null,
   "metadata": {},
   "outputs": [],
   "source": []
  }
 ],
 "metadata": {
  "kernelspec": {
   "display_name": "Python 3",
   "language": "python",
   "name": "python3"
  },
  "language_info": {
   "codemirror_mode": {
    "name": "ipython",
    "version": 3
   },
   "file_extension": ".py",
   "mimetype": "text/x-python",
   "name": "python",
   "nbconvert_exporter": "python",
   "pygments_lexer": "ipython3",
   "version": "3.6.5"
  }
 },
 "nbformat": 4,
 "nbformat_minor": 2
}
