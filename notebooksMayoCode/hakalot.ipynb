{
 "cells": [
  {
   "cell_type": "markdown",
   "metadata": {},
   "source": [
    "# hakalot.ipynb"
   ]
  },
  {
   "cell_type": "code",
   "execution_count": 1,
   "metadata": {},
   "outputs": [
    {
     "data": {
      "text/plain": [
       "['python', 'shell', '__init__.py', 'wdl']"
      ]
     },
     "execution_count": 1,
     "metadata": {},
     "output_type": "execute_result"
    }
   ],
   "source": [
    "import warnings\n",
    "warnings.filterwarnings('ignore')\n",
    "# pandas quard\n",
    "\n",
    "import os\n",
    "import sys\n",
    "from collections import OrderedDict\n",
    "\n",
    "import numpy as np\n",
    "import pandas as pd\n",
    "import yaml\n",
    "\n",
    "clone_base = '/Users/mojo/git_clone/SAM_BAM/'\n",
    "src_directory = os.path.join(clone_base,'MayomicsVC/src')\n",
    "\n",
    "os.listdir(src_directory)"
   ]
  },
  {
   "cell_type": "markdown",
   "metadata": {},
   "source": [
    "## parse the src dir tree to find and obscure string fragment:"
   ]
  },
  {
   "cell_type": "code",
   "execution_count": 20,
   "metadata": {},
   "outputs": [
    {
     "name": "stdout",
     "output_type": "stream",
     "text": [
      "/Users/mojo/git_clone/SAM_BAM/MayomicsVC/src/shell/vqsr.sh\n",
      "/Users/mojo/git_clone/SAM_BAM/MayomicsVC/src/wdl/HaplotyperVC/Tasks/vqsr.wdl\n"
     ]
    }
   ],
   "source": [
    "\n",
    "def find_string_fragment_in_dir_tree_list(string_fragment, dir_name=None):\n",
    "    \"\"\" Usage: contained_in_files_list = find_string_fragment_in_dir_tree(string_fragment, dir_name)\n",
    "    \"\"\"\n",
    "    if not dir_name is None and os.path.isdir(dir_name):\n",
    "        dir_tree_root = dir_name\n",
    "    else:\n",
    "        dir_tree_root = os.getcwd()\n",
    "    \n",
    "    contained_in_files_list = []\n",
    "    if isinstance(string_fragment, str) and len(string_fragment) > 0:\n",
    "        obscure_string_fragment = string_fragment    \n",
    "        for dir_name, dirs_list, files_list in os.walk(dir_tree_root):\n",
    "            for file_name in files_list:\n",
    "                full_file_name = os.path.join(dir_name, file_name)\n",
    "                with open(full_file_name, 'r') as fh:\n",
    "                    lines = fh.readlines()\n",
    "                if len(lines) > 0:\n",
    "                    for line in lines:\n",
    "                        l = line.strip()\n",
    "                        if obscure_string_fragment in l:\n",
    "                            contained_in_files_list.append(full_file_name)\n",
    "\n",
    "        if len(contained_in_files_list) > 0:\n",
    "            contained_in_files_list = sorted(list(set(contained_in_files_list)))\n",
    "        \n",
    "    return contained_in_files_list\n",
    "\n",
    "\n",
    "obscure_string_fragment = 'SNP.recaled.vcf'\n",
    "src_directory = os.path.join(clone_base,'MayomicsVC/src')\n",
    "contained_in_files_list = find_string_fragment_in_dir_tree_list(obscure_string_fragment, src_directory)\n",
    "for fname in contained_in_files_list:\n",
    "    print(fname)"
   ]
  },
  {
   "cell_type": "code",
   "execution_count": 23,
   "metadata": {},
   "outputs": [
    {
     "name": "stdout",
     "output_type": "stream",
     "text": [
      "SNP.recaled.vcf found in:\n",
      "/Users/mojo/git_clone/SAM_BAM/MayomicsVC/src/shell/vqsr.sh\n",
      "\tlines:  296  305  335  336  339  340 \n",
      "/Users/mojo/git_clone/SAM_BAM/MayomicsVC/src/wdl/HaplotyperVC/Tasks/vqsr.wdl\n",
      "\tlines:   57   58 \n"
     ]
    }
   ],
   "source": [
    "# %%writefile show_string_fragment_files_location.py\n",
    "\"\"\" \n",
    "Usage:\n",
    "python ~/python/show_string_fragment_files_location.py -s 'SNP.recaled.vcf' -d `pwd`\n",
    "\n",
    "\"\"\"\n",
    "import os\n",
    "import argparse\n",
    "from collections import OrderedDict\n",
    "\n",
    "def display_files_found_dict(string_fragment, dir_name=None):\n",
    "    \"\"\"  \n",
    "    \"\"\"\n",
    "    contained_in_files_dict = find_string_fragment_in_dir_tree(string_fragment, dir_name)\n",
    "    if isinstance(contained_in_files_dict, dict) and len(contained_in_files_dict) > 0:\n",
    "        print('%s found in:'%(string_fragment))\n",
    "        for full_file_name, lines_list in contained_in_files_dict.items():\n",
    "            print('%s'%(full_file_name))\n",
    "            if len(lines_list) > 1:\n",
    "                lines_string = ''\n",
    "                for line_number in lines_list:\n",
    "                    lines_string += '%4i '%(line_number)\n",
    "                print('\\tlines: %s'%(lines_string))\n",
    "            else:\n",
    "                print('\\tline %i'%(lines_list[0]))\n",
    "\n",
    "\n",
    "def find_string_fragment_in_dir_tree(string_fragment, dir_name=None):\n",
    "    \"\"\" Usage: contained_in_files_dict = find_string_fragment_in_dir_tree(string_fragment, dir_name)\n",
    "    \"\"\"\n",
    "    if not dir_name is None and os.path.isdir(dir_name):\n",
    "        dir_tree_root = dir_name\n",
    "    else:\n",
    "        dir_tree_root = os.getcwd()\n",
    "    \n",
    "    contained_in_tuples_list = []\n",
    "    if isinstance(string_fragment, str) and len(string_fragment) > 0:\n",
    "        obscure_string_fragment = string_fragment \n",
    "        for dir_name, dirs_list, files_list in os.walk(dir_tree_root):\n",
    "            for file_name in files_list:\n",
    "                full_file_name = os.path.join(dir_name, file_name)\n",
    "                line_locations_list = []\n",
    "                with open(full_file_name, 'r') as fh:\n",
    "                    lines = fh.readlines()\n",
    "                    \n",
    "                if len(lines) > 0:\n",
    "                    line_number = 0\n",
    "                    for line in lines:\n",
    "                        line_number += 1\n",
    "                        l = line.strip()\n",
    "                        if len(l) > 0 and obscure_string_fragment in l:\n",
    "                            line_locations_list.append(line_number)\n",
    "                if len(line_locations_list) > 0:\n",
    "                    contained_in_tuples_list.append((full_file_name, line_locations_list))\n",
    "                                \n",
    "\n",
    "        if len(contained_in_tuples_list) > 0:\n",
    "            contained_in_files_dict = OrderedDict(contained_in_tuples_list)\n",
    "        else:\n",
    "            contained_in_files_dict = {}\n",
    "            \n",
    "    return contained_in_files_dict\n",
    "\n",
    "\n",
    "# if __name__ == \"__main__\":\n",
    "#     parser = argparse.ArgumentParser()\n",
    "#     parser.add_argument('-s', type=str)\n",
    "#     parser.add_argument('-d', type=str)\n",
    "#     args = parser.parse_args()\n",
    "#     display_files_found_dict(args.s, args.d)\n",
    "\n",
    "obscure_string_fragment = 'SNP.recaled.vcf'\n",
    "src_directory = os.path.join(clone_base,'MayomicsVC/src')\n",
    "display_files_found_dict(obscure_string_fragment, src_directory)"
   ]
  },
  {
   "cell_type": "code",
   "execution_count": null,
   "metadata": {},
   "outputs": [],
   "source": []
  }
 ],
 "metadata": {
  "kernelspec": {
   "display_name": "Python 3",
   "language": "python",
   "name": "python3"
  },
  "language_info": {
   "codemirror_mode": {
    "name": "ipython",
    "version": 3
   },
   "file_extension": ".py",
   "mimetype": "text/x-python",
   "name": "python",
   "nbconvert_exporter": "python",
   "pygments_lexer": "ipython3",
   "version": "3.6.7"
  }
 },
 "nbformat": 4,
 "nbformat_minor": 2
}
